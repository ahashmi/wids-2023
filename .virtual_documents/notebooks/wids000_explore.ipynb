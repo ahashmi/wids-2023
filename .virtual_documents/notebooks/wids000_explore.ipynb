from pathlib import Path
import pandas as pd


data_dir = Path.cwd().parent / 'DATA'
data = {
    "train": data_dir / "train_data.csv",
    "test": data_dir / "test_data.csv",
    "sample": data_dir / "sample_solotion.csv",
}


train_df = pd.read_csv(data["train"])
print(f"training dataframe -> rows: {train_df.shape[0]}, cols: {train_df.shape[1]}")


test_df = pd.read_csv(data["test"])
print(f"training dataframe -> rows: {test_df.shape[0]}, cols: {test_df.shape[1]}")


# check the data missing values
train_df[train_df.columns[train_df.isnull().any()]].isnull().sum()


target = "contest-tmp2m-14d__tmp2m"


train_df[target].plot(kind="line", figsize=(20,12))



