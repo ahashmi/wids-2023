{
 "cells": [
  {
   "cell_type": "code",
   "execution_count": 2,
   "id": "ff3f35f7-4067-43e4-b30f-0171f50d8948",
   "metadata": {},
   "outputs": [],
   "source": [
    "from pathlib import Path\n",
    "import csv\n",
    "import pandas as pd"
   ]
  },
  {
   "cell_type": "code",
   "execution_count": 3,
   "id": "80ba21a2-1043-48c3-b3b7-edbceaee27e3",
   "metadata": {},
   "outputs": [],
   "source": [
    "data_dir = Path.cwd().parent / 'DATA'\n",
    "data_dir.mkdir(exist_ok=True)"
   ]
  },
  {
   "cell_type": "code",
   "execution_count": 4,
   "id": "5bc7c23d-1a3b-4f7b-9e80-adec031de1a7",
   "metadata": {},
   "outputs": [],
   "source": [
    "datathon_url = \"https://www.kaggle.com/competitions/widsdatathon2023\"\n",
    "data_page = datathon_url + \"/data\""
   ]
  },
  {
   "cell_type": "markdown",
   "id": "5689fdb6-be37-4e92-84e9-0f5f082559e8",
   "metadata": {},
   "source": [
    "## Note:\n",
    "Need to download data files (.csv) manually from the url:  \n",
    "<https://www.kaggle.com/competitions/widsdatathon2023/data>"
   ]
  },
  {
   "cell_type": "code",
   "execution_count": 5,
   "id": "d48337d0-9ba7-438b-af33-bd9aeb62eb27",
   "metadata": {},
   "outputs": [
    {
     "name": "stdout",
     "output_type": "stream",
     "text": [
      "- sample_solution.csv, 784 kB\n",
      "- test_data.csv, 48,666 kB\n",
      "- train_data.csv, 586,682 kB\n"
     ]
    }
   ],
   "source": [
    "for data_file in data_dir.glob(\"*.csv\"):\n",
    "    fil_sz = round(data_file.stat().st_size / 1024)\n",
    "    print(f\"- {data_file.name}, {fil_sz:,} kB\")"
   ]
  },
  {
   "cell_type": "code",
   "execution_count": 6,
   "id": "5cd838bf-036e-47b6-aa6f-8c13321f11b6",
   "metadata": {},
   "outputs": [],
   "source": [
    "data_file = data_dir / \"train_data.csv\""
   ]
  },
  {
   "cell_type": "markdown",
   "id": "7e250f84-31ce-4f50-9512-39da2fcca035",
   "metadata": {},
   "source": [
    "## Data Dictionary\n",
    "\n",
    "The WiDS 2023 Datathon is using a subset of a pre-prepared dataset in which the variables were gathered from the following datasets (source of the WiDS Datathon dataset will be revealed after the competition closes):\n",
    "\n",
    "Temperature: Daily maximum and minimum temperature measurements at 2 meters from 1979 onwards were obtained from NOAA’s Climate Prediction Center (CPC) Global Gridded Temperature dataset and converted to Celsius. The official contest target temperature variable is tmp2m = tmax+tmin / 2.\n",
    "\n",
    "ftp://ftp.cpc.ncep.noaa.gov/precip/PEOPLE/wd52ws/global_temp/\n",
    "\n",
    "\n",
    "Global precipitation: Daily precipitation data from 1979 onward were obtained from NOAA’s CPC Gauge-Based Analysis of Global Daily Precipitation [42] and converted to mm.\n",
    "\n",
    "ftp://ftp.cpc.ncep.noaa.gov/precip/CPC_UNI_PRCP/GAUGE_GLB/RT/\n",
    "\n",
    "\n",
    "U.S. precipitation: Daily U.S. precipitation data in mm were collected from the CPC Unified Gauge-Based Analysis of Daily Precipitation over CONUS. Measurements were replaced with sums over the ensuing two-week period.\n",
    "\n",
    "https://www.esrl.noaa.gov/psd/thredds/catalog/Datasets/cpc_us_precip/catalog.html\n",
    "\n",
    "\n",
    "Sea surface temperature and sea ice concentration: NOAA’s Optimum Interpolation Sea Surface Temperature (SST) dataset provides SST and sea ice concentration data, daily from 1981 to the present.\n",
    "\n",
    "ftp://ftp.cdc.noaa.gov/Projects/Datasets/noaa.oisst.v2.highres/\n",
    "\n",
    "\n",
    "Multivariate ENSO index (MEI): Bimonthly MEI values (MEI) from 1949 to the present, were obtained from NOAA/Earth System Research Laboratory. The MEI is a scalar summary of six variables (sea-level pressure, zonal and meridional surface wind components, SST, surface air temperature, and sky cloudiness) associated with El Niño/Southern Oscillation (ENSO), an ocean-atmosphere coupled climate mode.\n",
    "\n",
    "https://www.esrl.noaa.gov/psd/enso/mei/\n",
    "\n",
    "\n",
    "Madden-Julian oscillation (MJO): Daily MJO values since 1974 are provided by the Australian Government Bureau of Meteorology. MJO is a metric of tropical convection on daily to weekly timescales and can have a significant impact on the United States sub-seasonal climate. Measurements of phase and amplitude on the target date were extracted over the two-week period.\n",
    "\n",
    "http://www.bom.gov.au/climate/mjo/graphics/rmm.74toRealtime.txt\n",
    "\n",
    "\n",
    "Relative humidity, sea level pressure, and precipitable water for the entire atmosphere: NOAA’s National Center for Environmental Prediction (NCEP)/National Center for Atmospheric Research Reanalysis dataset contains daily relative humidity (rhum) near the surface (sigma level 0.995) from 1948 to the present and daily pressure at the surface (pres) from 1979 to the present.\n",
    "\n",
    "ftp://ftp.cdc.noaa.gov/Datasets/ncep.reanalysis/surface/\n",
    "\n",
    "\n",
    "Geopotential height, zonal wind, and longitudinal wind: To capture polar vortex variability, obtained daily mean geopotential height were obtained at 10mb from the NCEP Reanalysis dataset.\n",
    "\n",
    "ftp://ftp.cdc.noaa.gov/Datasets/ncep.reanalysis.dailyavgs/pressure/\n",
    "\n",
    "\n",
    "North American Multi-Model Ensemble (NMME): The North American Multi-Model Ensemble (NMME) is a collection of physics-based forecast models from various modeling centers in North America. Forecasts issued monthly from the Cansips, CanCM3, CanCM4, CCSM3, CCSM4, GFDL-CM2.1-aer04, GFDL-CM2.5, FLOR-A06 and FLOR-B01, NASA-GMAO-062012, and NCEP-CFSv2 models were downloaded from the IRI/LDEO Climate Data Library. Each forecast contains monthly mean predictions from 0.5 to 8.5 months ahead.\n",
    "\n",
    "https://iridl.ldeo.columbia.edu/SOURCES/.Models/.NMME/\n",
    "\n",
    "\n",
    "Pressure and potential evaporation: ftp://ftp.cdc.noaa.gov/Datasets/ncep.reanalysis/surface_gauss/\n",
    "\n",
    "\n",
    "Elevation: http://research.jisao.washington.edu/data_sets/elevation/elev.1-deg.nc\n",
    "\n",
    "\n",
    "Köppen-Geiger climate classifications: http://koeppen-geiger.vu-wien.ac.at/present.htm"
   ]
  },
  {
   "cell_type": "code",
   "execution_count": 7,
   "id": "27d0e353-fd24-496d-83b8-8ba67cf5862a",
   "metadata": {},
   "outputs": [],
   "source": [
    "var_prefixes = {\n",
    "    \"contest-slp-14d\": \"file containing sea level pressure (slp)\",\n",
    "    \"nmme0-tmp2m-34w\": \"file containing most recent monthly NMME model forecasts\",\n",
    "    \"contest-pres-sfc-gauss-14d\": \"pressure\",\n",
    "    \"mjo1d\": \"MJO phase and amplitude\",\n",
    "    \"contest-pevpr-sfc-gauss-14d\": \"potential evaporation\",\n",
    "    \"contest-wind-h850-14d\": \"geopotential height at 850 millibars\",\n",
    "    \"contest-wind-h500-14d\": \"geopotential height at 500 millibars\",\n",
    "    \"contest-wind-h100-14d\": \"geopotential height at 100 millibars\",\n",
    "    \"contest-wind-h10-14d\": \"geopotential height at 10 millibars\",\n",
    "    \"contest-wind-vwnd-925-14d\": \"longitudinal wind at 925 millibars\",\n",
    "    \"contest-wind-vwnd-250-14d\": \"longitudinal wind at 250 millibars\",\n",
    "    \"contest-wind-uwnd-250-14d\": \"zonal wind at 250 millibars\",\n",
    "    \"contest-wind-uwnd-925-14d\": \"zonal wind at 925 millibars\",\n",
    "    \"contest-rhum-sig995-14d\": \"relative humidity\",\n",
    "    \"contest-prwtr-eatm-14d\": \"precipitable water for entire atmosphere\",\n",
    "    \"nmme-prate-34w\": \"weeks 3-4 weighted average of monthly NMME model forecasts for precipitation\",\n",
    "    \"nmme-prate-56w\": \"weeks 5-6 weighted average of monthly NMME model forecasts for precipitation\",\n",
    "    \"nmme0-prate-56w\": \"weeks 5-6 weighted average of most recent monthly NMME model forecasts for precipitation\",\n",
    "    \"nmme0-prate-34w\": \"weeks 3-4 weighted average of most recent monthly NMME model forecasts for precipitation\",\n",
    "    \"nmme-tmp2m-34w\": \"weeks 3-4 weighted average of most recent monthly NMME model forecasts for target label, contest-tmp2m-14d__tmp2m\",\n",
    "    \"nmme-tmp2m-56w\": \"weeks 5-6 weighted average of monthly NMME model forecasts for target label, contest-tmp2m-14d__tmp2m\",\n",
    "    \"mei\": \"MEI (mei), MEI rank (rank), and Niño Index Phase (nip)\",\n",
    "    \"elevation:\": \"elevation\",\n",
    "    \"contest-precip-14d\": \"measured precipitation\",\n",
    "    \"climateregions\": \"Köppen-Geigerclimateclassifications\",\n",
    "}"
   ]
  },
  {
   "cell_type": "code",
   "execution_count": 9,
   "id": "8fd8a872-49ce-4c08-8225-08b52aa41e89",
   "metadata": {},
   "outputs": [
    {
     "name": "stdout",
     "output_type": "stream",
     "text": [
      "loaded 246 column names\n"
     ]
    }
   ],
   "source": [
    "with open(data_file, \"r\") as csv_in:\n",
    "    reader = csv.reader(csv_in)\n",
    "    column_names = next(reader)\n",
    "print(f\"loaded {len(column_names)} column names\")"
   ]
  },
  {
   "cell_type": "code",
   "execution_count": 12,
   "id": "a252ae00-a13d-4818-9d3b-dd973b95eae0",
   "metadata": {},
   "outputs": [
    {
     "name": "stdout",
     "output_type": "stream",
     "text": [
      "training dataframe -> rows: 375734, cols: 246\n",
      "-- memory usage: 761,726 MB\n",
      "CPU times: total: 6.88 s\n",
      "Wall time: 9.75 s\n"
     ]
    }
   ],
   "source": [
    "%%time\n",
    "train_df = pd.read_csv(data_dir / \"train_data.csv\")\n",
    "print(f\"training dataframe -> rows: {train_df.shape[0]}, cols: {train_df.shape[1]}\")\n",
    "train_mem_size = train_df.memory_usage(deep=True).sum() / 1024\n",
    "print(f\"-- memory usage: {round(train_mem_size):,} MB\")"
   ]
  },
  {
   "cell_type": "code",
   "execution_count": 13,
   "id": "fed90997-e693-429a-92bb-5d50d1eff2c2",
   "metadata": {},
   "outputs": [
    {
     "name": "stdout",
     "output_type": "stream",
     "text": [
      "training dataframe -> rows: 31354, cols: 245\n",
      "-- memory usage: 63,342 MB\n",
      "CPU times: total: 625 ms\n",
      "Wall time: 845 ms\n"
     ]
    }
   ],
   "source": [
    "%%time\n",
    "test_df = pd.read_csv(data_dir / \"test_data.csv\")\n",
    "print(f\"training dataframe -> rows: {test_df.shape[0]}, cols: {test_df.shape[1]}\")\n",
    "test_mem_size = test_df.memory_usage(deep=True).sum() / 1024\n",
    "print(f\"-- memory usage: {round(test_mem_size):,} MB\")"
   ]
  },
  {
   "cell_type": "code",
   "execution_count": 16,
   "id": "f6782c0c-0d34-4cd5-aa2d-5f8b6f2e05a6",
   "metadata": {},
   "outputs": [
    {
     "name": "stdout",
     "output_type": "stream",
     "text": [
      "CPU times: total: 2.09 s\n",
      "Wall time: 2.66 s\n"
     ]
    }
   ],
   "source": [
    "%%time\n",
    "train_df.to_parquet(data_dir / \"train_data.parquet\")"
   ]
  },
  {
   "cell_type": "code",
   "execution_count": 17,
   "id": "dcee0c3a-7a75-4715-a84d-46534b534638",
   "metadata": {},
   "outputs": [
    {
     "name": "stdout",
     "output_type": "stream",
     "text": [
      "CPU times: total: 172 ms\n",
      "Wall time: 292 ms\n"
     ]
    }
   ],
   "source": [
    "%%time\n",
    "test_df.to_parquet(data_dir / \"test_data.parquet\")"
   ]
  },
  {
   "cell_type": "code",
   "execution_count": null,
   "id": "cb7dc9db-68f7-4c3f-8fb2-50b59fcd6267",
   "metadata": {},
   "outputs": [],
   "source": []
  }
 ],
 "metadata": {
  "kernelspec": {
   "display_name": "Python 3 (ipykernel)",
   "language": "python",
   "name": "python3"
  },
  "language_info": {
   "codemirror_mode": {
    "name": "ipython",
    "version": 3
   },
   "file_extension": ".py",
   "mimetype": "text/x-python",
   "name": "python",
   "nbconvert_exporter": "python",
   "pygments_lexer": "ipython3",
   "version": "3.10.0"
  }
 },
 "nbformat": 4,
 "nbformat_minor": 5
}
