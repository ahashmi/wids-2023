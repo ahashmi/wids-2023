{
 "cells": [
  {
   "cell_type": "code",
   "execution_count": 10,
   "id": "ff3f35f7-4067-43e4-b30f-0171f50d8948",
   "metadata": {},
   "outputs": [],
   "source": [
    "from pathlib import Path\n",
    "import csv\n",
    "import pandas as pd\n",
    "import json"
   ]
  },
  {
   "cell_type": "code",
   "execution_count": 2,
   "id": "80ba21a2-1043-48c3-b3b7-edbceaee27e3",
   "metadata": {},
   "outputs": [],
   "source": [
    "data_dir = Path.cwd().parent / 'DATA'\n",
    "data_dir.mkdir(exist_ok=True)"
   ]
  },
  {
   "cell_type": "code",
   "execution_count": 3,
   "id": "5bc7c23d-1a3b-4f7b-9e80-adec031de1a7",
   "metadata": {},
   "outputs": [],
   "source": [
    "datathon_url = \"https://www.kaggle.com/competitions/widsdatathon2023\"\n",
    "data_page = datathon_url + \"/data\""
   ]
  },
  {
   "cell_type": "markdown",
   "id": "5689fdb6-be37-4e92-84e9-0f5f082559e8",
   "metadata": {},
   "source": [
    "## Note:\n",
    "Need to download data files (.csv) manually from the url:  \n",
    "<https://www.kaggle.com/competitions/widsdatathon2023/data>"
   ]
  },
  {
   "cell_type": "code",
   "execution_count": 4,
   "id": "d48337d0-9ba7-438b-af33-bd9aeb62eb27",
   "metadata": {},
   "outputs": [
    {
     "name": "stdout",
     "output_type": "stream",
     "text": [
      "- sample_solution.csv, 784 kB\n",
      "- test_data.csv, 48,666 kB\n",
      "- train_data.csv, 586,682 kB\n"
     ]
    }
   ],
   "source": [
    "for data_file in data_dir.glob(\"*.csv\"):\n",
    "    fil_sz = round(data_file.stat().st_size / 1024)\n",
    "    print(f\"- {data_file.name}, {fil_sz:,} kB\")"
   ]
  },
  {
   "cell_type": "code",
   "execution_count": 5,
   "id": "5cd838bf-036e-47b6-aa6f-8c13321f11b6",
   "metadata": {},
   "outputs": [],
   "source": [
    "data_file = data_dir / \"train_data.csv\""
   ]
  },
  {
   "cell_type": "markdown",
   "id": "7e250f84-31ce-4f50-9512-39da2fcca035",
   "metadata": {},
   "source": [
    "## Data Dictionary\n",
    "\n",
    "The WiDS 2023 Datathon is using a subset of a pre-prepared dataset in which the variables were gathered from the following datasets (source of the WiDS Datathon dataset will be revealed after the competition closes):\n",
    "\n",
    "Temperature: Daily maximum and minimum temperature measurements at 2 meters from 1979 onwards were obtained from NOAA’s Climate Prediction Center (CPC) Global Gridded Temperature dataset and converted to Celsius. The official contest target temperature variable is tmp2m = tmax+tmin / 2.\n",
    "\n",
    "ftp://ftp.cpc.ncep.noaa.gov/precip/PEOPLE/wd52ws/global_temp/\n",
    "\n",
    "\n",
    "Global precipitation: Daily precipitation data from 1979 onward were obtained from NOAA’s CPC Gauge-Based Analysis of Global Daily Precipitation [42] and converted to mm.\n",
    "\n",
    "ftp://ftp.cpc.ncep.noaa.gov/precip/CPC_UNI_PRCP/GAUGE_GLB/RT/\n",
    "\n",
    "\n",
    "U.S. precipitation: Daily U.S. precipitation data in mm were collected from the CPC Unified Gauge-Based Analysis of Daily Precipitation over CONUS. Measurements were replaced with sums over the ensuing two-week period.\n",
    "\n",
    "https://www.esrl.noaa.gov/psd/thredds/catalog/Datasets/cpc_us_precip/catalog.html\n",
    "\n",
    "\n",
    "Sea surface temperature and sea ice concentration: NOAA’s Optimum Interpolation Sea Surface Temperature (SST) dataset provides SST and sea ice concentration data, daily from 1981 to the present.\n",
    "\n",
    "ftp://ftp.cdc.noaa.gov/Projects/Datasets/noaa.oisst.v2.highres/\n",
    "\n",
    "\n",
    "Multivariate ENSO index (MEI): Bimonthly MEI values (MEI) from 1949 to the present, were obtained from NOAA/Earth System Research Laboratory. The MEI is a scalar summary of six variables (sea-level pressure, zonal and meridional surface wind components, SST, surface air temperature, and sky cloudiness) associated with El Niño/Southern Oscillation (ENSO), an ocean-atmosphere coupled climate mode.\n",
    "\n",
    "https://www.esrl.noaa.gov/psd/enso/mei/\n",
    "\n",
    "\n",
    "Madden-Julian oscillation (MJO): Daily MJO values since 1974 are provided by the Australian Government Bureau of Meteorology. MJO is a metric of tropical convection on daily to weekly timescales and can have a significant impact on the United States sub-seasonal climate. Measurements of phase and amplitude on the target date were extracted over the two-week period.\n",
    "\n",
    "http://www.bom.gov.au/climate/mjo/graphics/rmm.74toRealtime.txt\n",
    "\n",
    "\n",
    "Relative humidity, sea level pressure, and precipitable water for the entire atmosphere: NOAA’s National Center for Environmental Prediction (NCEP)/National Center for Atmospheric Research Reanalysis dataset contains daily relative humidity (rhum) near the surface (sigma level 0.995) from 1948 to the present and daily pressure at the surface (pres) from 1979 to the present.\n",
    "\n",
    "ftp://ftp.cdc.noaa.gov/Datasets/ncep.reanalysis/surface/\n",
    "\n",
    "\n",
    "Geopotential height, zonal wind, and longitudinal wind: To capture polar vortex variability, obtained daily mean geopotential height were obtained at 10mb from the NCEP Reanalysis dataset.\n",
    "\n",
    "ftp://ftp.cdc.noaa.gov/Datasets/ncep.reanalysis.dailyavgs/pressure/\n",
    "\n",
    "\n",
    "North American Multi-Model Ensemble (NMME): The North American Multi-Model Ensemble (NMME) is a collection of physics-based forecast models from various modeling centers in North America. Forecasts issued monthly from the Cansips, CanCM3, CanCM4, CCSM3, CCSM4, GFDL-CM2.1-aer04, GFDL-CM2.5, FLOR-A06 and FLOR-B01, NASA-GMAO-062012, and NCEP-CFSv2 models were downloaded from the IRI/LDEO Climate Data Library. Each forecast contains monthly mean predictions from 0.5 to 8.5 months ahead.\n",
    "\n",
    "https://iridl.ldeo.columbia.edu/SOURCES/.Models/.NMME/\n",
    "\n",
    "\n",
    "Pressure and potential evaporation: ftp://ftp.cdc.noaa.gov/Datasets/ncep.reanalysis/surface_gauss/\n",
    "\n",
    "\n",
    "Elevation: http://research.jisao.washington.edu/data_sets/elevation/elev.1-deg.nc\n",
    "\n",
    "\n",
    "Köppen-Geiger climate classifications: http://koeppen-geiger.vu-wien.ac.at/present.htm"
   ]
  },
  {
   "cell_type": "code",
   "execution_count": 6,
   "id": "27d0e353-fd24-496d-83b8-8ba67cf5862a",
   "metadata": {},
   "outputs": [],
   "source": [
    "var_prefixes = {\n",
    "    \"contest-slp-14d\": \"file containing sea level pressure (slp)\",\n",
    "    \"nmme0-tmp2m-34w\": \"file containing most recent monthly NMME model forecasts\",\n",
    "    \"contest-pres-sfc-gauss-14d\": \"pressure\",\n",
    "    \"mjo1d\": \"MJO phase and amplitude\",\n",
    "    \"contest-pevpr-sfc-gauss-14d\": \"potential evaporation\",\n",
    "    \"contest-wind-h850-14d\": \"geopotential height at 850 millibars\",\n",
    "    \"contest-wind-h500-14d\": \"geopotential height at 500 millibars\",\n",
    "    \"contest-wind-h100-14d\": \"geopotential height at 100 millibars\",\n",
    "    \"contest-wind-h10-14d\": \"geopotential height at 10 millibars\",\n",
    "    \"contest-wind-vwnd-925-14d\": \"longitudinal wind at 925 millibars\",\n",
    "    \"contest-wind-vwnd-250-14d\": \"longitudinal wind at 250 millibars\",\n",
    "    \"contest-wind-uwnd-250-14d\": \"zonal wind at 250 millibars\",\n",
    "    \"contest-wind-uwnd-925-14d\": \"zonal wind at 925 millibars\",\n",
    "    \"contest-rhum-sig995-14d\": \"relative humidity\",\n",
    "    \"contest-prwtr-eatm-14d\": \"precipitable water for entire atmosphere\",\n",
    "    \"nmme-prate-34w\": \"weeks 3-4 weighted average of monthly NMME model forecasts for precipitation\",\n",
    "    \"nmme-prate-56w\": \"weeks 5-6 weighted average of monthly NMME model forecasts for precipitation\",\n",
    "    \"nmme0-prate-56w\": \"weeks 5-6 weighted average of most recent monthly NMME model forecasts for precipitation\",\n",
    "    \"nmme0-prate-34w\": \"weeks 3-4 weighted average of most recent monthly NMME model forecasts for precipitation\",\n",
    "    \"nmme-tmp2m-34w\": \"weeks 3-4 weighted average of most recent monthly NMME model forecasts for target label, contest-tmp2m-14d__tmp2m\",\n",
    "    \"nmme-tmp2m-56w\": \"weeks 5-6 weighted average of monthly NMME model forecasts for target label, contest-tmp2m-14d__tmp2m\",\n",
    "    \"mei\": \"MEI (mei), MEI rank (rank), and Niño Index Phase (nip)\",\n",
    "    \"elevation:\": \"elevation\",\n",
    "    \"contest-precip-14d\": \"measured precipitation\",\n",
    "    \"climateregions\": \"Köppen-Geigerclimateclassifications\",\n",
    "}"
   ]
  },
  {
   "cell_type": "code",
   "execution_count": 7,
   "id": "8fd8a872-49ce-4c08-8225-08b52aa41e89",
   "metadata": {},
   "outputs": [
    {
     "name": "stdout",
     "output_type": "stream",
     "text": [
      "loaded 246 column names\n"
     ]
    }
   ],
   "source": [
    "with open(data_file, \"r\") as csv_in:\n",
    "    reader = csv.reader(csv_in)\n",
    "    column_names = next(reader)\n",
    "print(f\"loaded {len(column_names)} column names\")"
   ]
  },
  {
   "cell_type": "code",
   "execution_count": 52,
   "id": "19582da5-a8c7-42c5-8f58-25eaf1c7f300",
   "metadata": {},
   "outputs": [],
   "source": [
    "TARGET = 'contest-tmp2m-14d__tmp2m'"
   ]
  },
  {
   "cell_type": "code",
   "execution_count": 73,
   "id": "a8fca4ce-da7e-4525-9c73-17c94ab5663c",
   "metadata": {},
   "outputs": [],
   "source": [
    "keywords = ['wind-h', 'wind-u', 'wind-v', 'nmme0', 'nmme', 'mei', 'mjo', 'sst', 'icec']"
   ]
  },
  {
   "cell_type": "code",
   "execution_count": 77,
   "id": "90a1017a-2aa1-4287-a76d-8db0587122e8",
   "metadata": {},
   "outputs": [
    {
     "name": "stdout",
     "output_type": "stream",
     "text": [
      "grouped colunms: 246\n"
     ]
    }
   ],
   "source": [
    "groups_cols = []\n",
    "for col in column_names:\n",
    "    if col in ['index', TARGET, 'startdate']:\n",
    "        groups_cols.append(('info', col))\n",
    "    elif col in ['lat', 'lon', 'elevation__elevation', 'climateregions__climateregion']:\n",
    "        groups_cols.append(('geography', col))\n",
    "    elif col in ['contest-pres-sfc-gauss-14d__pres', 'contest-slp-14d__slp']:\n",
    "        groups_cols.append(('pressure', col))\n",
    "    elif col in [\n",
    "        'contest-rhum-sig995-14d__rhum', 'contest-pevpr-sfc-gauss-14d__pevpr',\n",
    "        'contest-prwtr-eatm-14d__prwtr', 'contest-precip-14d__precip',\n",
    "    ]:\n",
    "        groups_cols.append(('precip', col))\n",
    "    elif col in [\n",
    "        'nmme0mean', 'cancm30', 'cancm40', 'ccsm30', 'ccsm40',\n",
    "        'cfsv20', 'gfdlflora0', 'gfdlflorb0', 'gfdl0', 'nasa0',\n",
    "    ]:\n",
    "        groups_cols.append(('temp_forecast', col))\n",
    "    else:\n",
    "        for keyword in keywords:\n",
    "            if col.find(keyword) > -1:\n",
    "                group = keyword\n",
    "                break\n",
    "        else:\n",
    "            group = 'other'\n",
    "        groups_cols.append((group, col))\n",
    "print(f\"grouped colunms: {len(groups_cols)}\")"
   ]
  },
  {
   "cell_type": "code",
   "execution_count": 78,
   "id": "506ca9c3-900d-493a-b7b4-f527985a5d59",
   "metadata": {},
   "outputs": [],
   "source": [
    "grouped_cols = {}\n",
    "for group, col in groups_cols:\n",
    "    if group not in grouped_cols.keys():\n",
    "        grouped_cols[group] = []\n",
    "    grouped_cols[group].append(col)"
   ]
  },
  {
   "cell_type": "code",
   "execution_count": 79,
   "id": "ba105bf5-577e-4f83-a15b-3f45c7102c54",
   "metadata": {},
   "outputs": [
    {
     "name": "stdout",
     "output_type": "stream",
     "text": [
      "column file written\n"
     ]
    }
   ],
   "source": [
    "col_file = 'artifacts/columns.json'\n",
    "with open(col_file, 'w') as js_out:\n",
    "    json.dump(grouped_cols, js_out, indent=4)\n",
    "    print('column file written')"
   ]
  },
  {
   "cell_type": "markdown",
   "id": "1eb5d475-d400-4a27-9dc1-7986245d723b",
   "metadata": {},
   "source": [
    "# Converting CSV to Parquet"
   ]
  },
  {
   "cell_type": "code",
   "execution_count": 8,
   "id": "a252ae00-a13d-4818-9d3b-dd973b95eae0",
   "metadata": {},
   "outputs": [
    {
     "name": "stdout",
     "output_type": "stream",
     "text": [
      "training dataframe -> rows: 375734, cols: 246\n",
      "-- memory usage: 761,726 MB\n",
      "Wall time: 26.3 s\n"
     ]
    }
   ],
   "source": [
    "%%time\n",
    "train_df = pd.read_csv(data_dir / \"train_data.csv\")\n",
    "print(f\"training dataframe -> rows: {train_df.shape[0]}, cols: {train_df.shape[1]}\")\n",
    "train_mem_size = train_df.memory_usage(deep=True).sum() / 1024\n",
    "print(f\"-- memory usage: {round(train_mem_size):,} MB\")"
   ]
  },
  {
   "cell_type": "code",
   "execution_count": 80,
   "id": "fed90997-e693-429a-92bb-5d50d1eff2c2",
   "metadata": {},
   "outputs": [
    {
     "name": "stdout",
     "output_type": "stream",
     "text": [
      "training dataframe -> rows: 31354, cols: 245\n",
      "-- memory usage: 63,342 MB\n",
      "Wall time: 1.92 s\n"
     ]
    }
   ],
   "source": [
    "%%time\n",
    "test_df = pd.read_csv(data_dir / \"test_data.csv\")\n",
    "print(f\"training dataframe -> rows: {test_df.shape[0]}, cols: {test_df.shape[1]}\")\n",
    "test_mem_size = test_df.memory_usage(deep=True).sum() / 1024\n",
    "print(f\"-- memory usage: {round(test_mem_size):,} MB\")"
   ]
  },
  {
   "cell_type": "code",
   "execution_count": 81,
   "id": "f6782c0c-0d34-4cd5-aa2d-5f8b6f2e05a6",
   "metadata": {},
   "outputs": [
    {
     "name": "stdout",
     "output_type": "stream",
     "text": [
      "Wall time: 7.89 s\n"
     ]
    }
   ],
   "source": [
    "%%time\n",
    "train_df.to_parquet(data_dir / \"train_data.parquet\")"
   ]
  },
  {
   "cell_type": "code",
   "execution_count": 82,
   "id": "dcee0c3a-7a75-4715-a84d-46534b534638",
   "metadata": {},
   "outputs": [
    {
     "name": "stdout",
     "output_type": "stream",
     "text": [
      "Wall time: 735 ms\n"
     ]
    }
   ],
   "source": [
    "%%time\n",
    "test_df.to_parquet(data_dir / \"test_data.parquet\")"
   ]
  },
  {
   "cell_type": "code",
   "execution_count": null,
   "id": "cb7dc9db-68f7-4c3f-8fb2-50b59fcd6267",
   "metadata": {},
   "outputs": [],
   "source": []
  }
 ],
 "metadata": {
  "kernelspec": {
   "display_name": "Python 3 (ipykernel)",
   "language": "python",
   "name": "python3"
  },
  "language_info": {
   "codemirror_mode": {
    "name": "ipython",
    "version": 3
   },
   "file_extension": ".py",
   "mimetype": "text/x-python",
   "name": "python",
   "nbconvert_exporter": "python",
   "pygments_lexer": "ipython3",
   "version": "3.9.6"
  }
 },
 "nbformat": 4,
 "nbformat_minor": 5
}
