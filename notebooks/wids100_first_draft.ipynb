{
 "cells": [
  {
   "cell_type": "code",
   "execution_count": 1,
   "id": "77d54445-9442-45ae-88af-a3dd8ae47c83",
   "metadata": {},
   "outputs": [],
   "source": [
    "from pathlib import Path\n",
    "import pandas as pd\n",
    "import numpy as np\n",
    "import matplotlib.pyplot as plt"
   ]
  },
  {
   "cell_type": "code",
   "execution_count": 37,
   "id": "dee85caf-c3c9-4a75-8330-f071c7336711",
   "metadata": {},
   "outputs": [],
   "source": [
    "from sklearn import preprocessing"
   ]
  },
  {
   "cell_type": "code",
   "execution_count": 2,
   "id": "00a3c081-2fe6-4c76-847f-0bcb2f057dd1",
   "metadata": {},
   "outputs": [],
   "source": [
    "data_dir = Path.cwd().parent / 'DATA'"
   ]
  },
  {
   "cell_type": "code",
   "execution_count": 3,
   "id": "32a2036c-735d-4f17-b89a-488246c0eaae",
   "metadata": {},
   "outputs": [],
   "source": [
    "# define target column\n",
    "TARGET = \"contest-tmp2m-14d__tmp2m\""
   ]
  },
  {
   "cell_type": "markdown",
   "id": "c01429a9-3678-4af8-9e42-bc1e60256e5d",
   "metadata": {},
   "source": [
    "# 0. Load Train/Test Data"
   ]
  },
  {
   "cell_type": "code",
   "execution_count": 4,
   "id": "d2870774-134c-48f7-b561-a940eadff225",
   "metadata": {},
   "outputs": [
    {
     "name": "stdout",
     "output_type": "stream",
     "text": [
      "training dataframe -> rows: 375734, cols: 246\n",
      "-- memory usage: 761,726 MB\n",
      "CPU times: total: 2.03 s\n",
      "Wall time: 378 ms\n"
     ]
    }
   ],
   "source": [
    "%%time\n",
    "train_df = pd.read_parquet(data_dir / \"train_data.parquet\")\n",
    "print(f\"training dataframe -> rows: {train_df.shape[0]}, cols: {train_df.shape[1]}\")\n",
    "train_mem_size = train_df.memory_usage(deep=True).sum() / 1024\n",
    "print(f\"-- memory usage: {round(train_mem_size):,} MB\")"
   ]
  },
  {
   "cell_type": "code",
   "execution_count": 5,
   "id": "c7610b9c-7d8a-462d-9efe-456a06a98c50",
   "metadata": {},
   "outputs": [
    {
     "name": "stdout",
     "output_type": "stream",
     "text": [
      "training dataframe -> rows: 31354, cols: 245\n",
      "-- memory usage: 63,342 MB\n",
      "CPU times: total: 31.2 ms\n",
      "Wall time: 60.6 ms\n"
     ]
    }
   ],
   "source": [
    "%%time\n",
    "test_df = pd.read_parquet(data_dir / \"test_data.parquet\")\n",
    "print(f\"training dataframe -> rows: {test_df.shape[0]}, cols: {test_df.shape[1]}\")\n",
    "test_mem_size = test_df.memory_usage(deep=True).sum() / 1024\n",
    "print(f\"-- memory usage: {round(test_mem_size):,} MB\")"
   ]
  },
  {
   "cell_type": "markdown",
   "id": "9c984dbb-326d-4f06-bf35-e5634c65f8dd",
   "metadata": {},
   "source": [
    "# 1. Address Data Quality Issues\n",
    "\n",
    "## a. Location Mismatch between Train & Test\n",
    "\n",
    "ref: <https://www.kaggle.com/code/flaviafelicioni/wids-2023-different-locations-train-test-solved>"
   ]
  },
  {
   "cell_type": "code",
   "execution_count": 6,
   "id": "08330ce9-1432-44c7-9bca-7b10a959141d",
   "metadata": {},
   "outputs": [],
   "source": [
    "SCALE = 14"
   ]
  },
  {
   "cell_type": "code",
   "execution_count": 7,
   "id": "0da4cf8a-7e76-4727-8e08-83f3adde3e36",
   "metadata": {},
   "outputs": [],
   "source": [
    "def fix_locations(in_df: pd.DataFrame) -> pd.DataFrame:\n",
    "    for col in [\"lat\", \"lon\"]:\n",
    "        in_df.loc[:, col] = round(train_df[col], SCALE)\n",
    "    return in_df"
   ]
  },
  {
   "cell_type": "code",
   "execution_count": 8,
   "id": "7030dba9-a2a4-48a4-a424-4f50b6e9eb35",
   "metadata": {},
   "outputs": [],
   "source": [
    "train1_df = fix_locations(in_df=train_df)\n",
    "test1_df = fix_locations(in_df=test_df)\n",
    "train_df, test_df = \"\", \"\""
   ]
  },
  {
   "cell_type": "code",
   "execution_count": 9,
   "id": "501e9077-e058-4165-b14e-df07e8504573",
   "metadata": {},
   "outputs": [
    {
     "name": "stdout",
     "output_type": "stream",
     "text": [
      "514 unique locations\n"
     ]
    }
   ],
   "source": [
    "# Concatenate train and test data\n",
    "all_df = pd.concat([train1_df, test1_df], axis=0)\n",
    "\n",
    "# Create new feature\n",
    "all_df['loc_group'] = all_df.groupby(['lat','lon']).ngroup()\n",
    "\n",
    "print(f'{all_df.loc_group.nunique()} unique locations')"
   ]
  },
  {
   "cell_type": "markdown",
   "id": "92f45757-0d74-494c-813c-61976b535f45",
   "metadata": {},
   "source": [
    "## b. Fill Missing Values w/ Mean"
   ]
  },
  {
   "cell_type": "code",
   "execution_count": 12,
   "id": "28a4cd1f-c011-483c-b612-e3bac02b36b6",
   "metadata": {},
   "outputs": [],
   "source": [
    "def fill_missing(in_df: pd.DataFrame) -> pd.DataFrame:\n",
    "    out_df = in_df.copy()\n",
    "    cols_w_na = in_df.columns[in_df.isna().any()].to_list()\n",
    "    if len(cols_w_na):\n",
    "        print(\"columns with missing values:\\n\")\n",
    "        count_tot = out_df.shape[0]\n",
    "        for col in cols_w_na:\n",
    "            count_na = out_df[col].isna().sum()\n",
    "            print(f\"{col} -> count missing: {count_na}, percent: {round(count_na / count_tot * 100, 2)}%\")\n",
    "            col_mean = out_df[col].mean()\n",
    "            print(f\"-- mean: {round(col_mean, 4)}\\n\")\n",
    "            out_df[col] = out_df[col].fillna(col_mean)\n",
    "    else:\n",
    "        print(\"no columns w/ missing values\")\n",
    "    return out_df"
   ]
  },
  {
   "cell_type": "code",
   "execution_count": 13,
   "id": "1607452f-98ab-41f7-9920-c5315577bbf4",
   "metadata": {},
   "outputs": [
    {
     "name": "stdout",
     "output_type": "stream",
     "text": [
      "columns with missing values:\n",
      "\n",
      "nmme0-tmp2m-34w__ccsm30 -> count missing: 15934, percent: 4.24%\n",
      "-- mean: 10.0993\n",
      "\n",
      "nmme-tmp2m-56w__ccsm3 -> count missing: 10280, percent: 2.74%\n",
      "-- mean: 9.6632\n",
      "\n",
      "nmme-prate-34w__ccsm3 -> count missing: 8738, percent: 2.33%\n",
      "-- mean: 31.2615\n",
      "\n",
      "nmme0-prate-56w__ccsm30 -> count missing: 15934, percent: 4.24%\n",
      "-- mean: 29.624\n",
      "\n",
      "nmme0-prate-34w__ccsm30 -> count missing: 15934, percent: 4.24%\n",
      "-- mean: 29.6526\n",
      "\n",
      "nmme-prate-56w__ccsm3 -> count missing: 10280, percent: 2.74%\n",
      "-- mean: 32.0076\n",
      "\n",
      "nmme-tmp2m-34w__ccsm3 -> count missing: 8738, percent: 2.33%\n",
      "-- mean: 9.821\n",
      "\n",
      "ccsm30 -> count missing: 15934, percent: 4.24%\n",
      "-- mean: 10.1015\n",
      "\n"
     ]
    }
   ],
   "source": [
    "train2_df = fill_missing(in_df=train1_df)"
   ]
  },
  {
   "cell_type": "code",
   "execution_count": 14,
   "id": "f0e065b5-b9cd-46ff-8234-ad8c849548a2",
   "metadata": {},
   "outputs": [
    {
     "name": "stdout",
     "output_type": "stream",
     "text": [
      "no columns w/ missing values\n"
     ]
    }
   ],
   "source": [
    "test2_df = fill_missing(in_df=test1_df)"
   ]
  },
  {
   "cell_type": "code",
   "execution_count": 15,
   "id": "03b77955-a68a-40a8-a756-1f4190e26cdb",
   "metadata": {},
   "outputs": [],
   "source": [
    "train1_df, test1_df = \"\", \"\""
   ]
  },
  {
   "cell_type": "markdown",
   "id": "e62fffb3-3584-4719-89e6-9bab29bda060",
   "metadata": {},
   "source": [
    "# 2. Transform Data\n",
    "\n",
    "## a. Determine Columns w/ High Correlation"
   ]
  },
  {
   "cell_type": "code",
   "execution_count": 16,
   "id": "f067050e-6678-4482-a885-dc9b8c5c7920",
   "metadata": {},
   "outputs": [],
   "source": [
    "THRSHLD = 0.9"
   ]
  },
  {
   "cell_type": "code",
   "execution_count": 17,
   "id": "c011c8be-244c-426a-a28e-1c93730a102e",
   "metadata": {},
   "outputs": [],
   "source": [
    "skip_cols = [TARGET, \"index\"]\n",
    "\n",
    "def column_corr(in_df: pd.DataFrame) -> list:\n",
    "    trgt_corr = in_df.corr(numeric_only=True)[TARGET].sort_values(ascending=False)\n",
    "    all_cols = trgt_corr.index.to_list()\n",
    "    keep_cols = [c for c in all_cols if c not in skip_cols]\n",
    "    trgt_corr = trgt_corr[trgt_corr.index.isin(keep_cols)]\n",
    "    trgt_corr.name = \"correlation\"\n",
    "    corr_df = pd.DataFrame(trgt_corr)\n",
    "    corr_df[\"abs. corr.\"] = corr_df[\"correlation\"].abs()\n",
    "    top_corr_df = corr_df[corr_df[\"abs. corr.\"] >= THRSHLD]\n",
    "    print(f\"columns w/ abs. corr. above {THRSHLD}: {top_corr_df.shape[0]}\")\n",
    "    display(top_corr_df)\n",
    "    return top_corr_df.index.to_list()"
   ]
  },
  {
   "cell_type": "code",
   "execution_count": 18,
   "id": "df423455-20f1-4592-a1c0-72f774e6c3a0",
   "metadata": {},
   "outputs": [
    {
     "name": "stdout",
     "output_type": "stream",
     "text": [
      "columns w/ abs. corr. above 0.9: 19\n"
     ]
    },
    {
     "data": {
      "text/html": [
       "<div>\n",
       "<style scoped>\n",
       "    .dataframe tbody tr th:only-of-type {\n",
       "        vertical-align: middle;\n",
       "    }\n",
       "\n",
       "    .dataframe tbody tr th {\n",
       "        vertical-align: top;\n",
       "    }\n",
       "\n",
       "    .dataframe thead th {\n",
       "        text-align: right;\n",
       "    }\n",
       "</style>\n",
       "<table border=\"1\" class=\"dataframe\">\n",
       "  <thead>\n",
       "    <tr style=\"text-align: right;\">\n",
       "      <th></th>\n",
       "      <th>correlation</th>\n",
       "      <th>abs. corr.</th>\n",
       "    </tr>\n",
       "  </thead>\n",
       "  <tbody>\n",
       "    <tr>\n",
       "      <th>nmme-tmp2m-56w__cfsv2</th>\n",
       "      <td>0.954668</td>\n",
       "      <td>0.954668</td>\n",
       "    </tr>\n",
       "    <tr>\n",
       "      <th>nmme-tmp2m-34w__cfsv2</th>\n",
       "      <td>0.954483</td>\n",
       "      <td>0.954483</td>\n",
       "    </tr>\n",
       "    <tr>\n",
       "      <th>nmme-tmp2m-56w__nmmemean</th>\n",
       "      <td>0.950865</td>\n",
       "      <td>0.950865</td>\n",
       "    </tr>\n",
       "    <tr>\n",
       "      <th>nmme-tmp2m-34w__nmmemean</th>\n",
       "      <td>0.950187</td>\n",
       "      <td>0.950187</td>\n",
       "    </tr>\n",
       "    <tr>\n",
       "      <th>nmme-tmp2m-56w__gfdlflora</th>\n",
       "      <td>0.949846</td>\n",
       "      <td>0.949846</td>\n",
       "    </tr>\n",
       "    <tr>\n",
       "      <th>nmme-tmp2m-34w__gfdlflorb</th>\n",
       "      <td>0.949346</td>\n",
       "      <td>0.949346</td>\n",
       "    </tr>\n",
       "    <tr>\n",
       "      <th>nmme-tmp2m-56w__gfdlflorb</th>\n",
       "      <td>0.949016</td>\n",
       "      <td>0.949016</td>\n",
       "    </tr>\n",
       "    <tr>\n",
       "      <th>nmme-tmp2m-34w__gfdlflora</th>\n",
       "      <td>0.947379</td>\n",
       "      <td>0.947379</td>\n",
       "    </tr>\n",
       "    <tr>\n",
       "      <th>nmme-tmp2m-56w__ccsm4</th>\n",
       "      <td>0.944435</td>\n",
       "      <td>0.944435</td>\n",
       "    </tr>\n",
       "    <tr>\n",
       "      <th>nmme-tmp2m-34w__ccsm4</th>\n",
       "      <td>0.943234</td>\n",
       "      <td>0.943234</td>\n",
       "    </tr>\n",
       "    <tr>\n",
       "      <th>nmme-tmp2m-56w__nasa</th>\n",
       "      <td>0.941429</td>\n",
       "      <td>0.941429</td>\n",
       "    </tr>\n",
       "    <tr>\n",
       "      <th>nmme-tmp2m-34w__nasa</th>\n",
       "      <td>0.940128</td>\n",
       "      <td>0.940128</td>\n",
       "    </tr>\n",
       "    <tr>\n",
       "      <th>nmme-tmp2m-56w__gfdl</th>\n",
       "      <td>0.937179</td>\n",
       "      <td>0.937179</td>\n",
       "    </tr>\n",
       "    <tr>\n",
       "      <th>nmme-tmp2m-34w__gfdl</th>\n",
       "      <td>0.936684</td>\n",
       "      <td>0.936684</td>\n",
       "    </tr>\n",
       "    <tr>\n",
       "      <th>nmme-tmp2m-34w__cancm3</th>\n",
       "      <td>0.931658</td>\n",
       "      <td>0.931658</td>\n",
       "    </tr>\n",
       "    <tr>\n",
       "      <th>nmme-tmp2m-56w__cancm3</th>\n",
       "      <td>0.930164</td>\n",
       "      <td>0.930164</td>\n",
       "    </tr>\n",
       "    <tr>\n",
       "      <th>nmme-tmp2m-34w__cancm4</th>\n",
       "      <td>0.928570</td>\n",
       "      <td>0.928570</td>\n",
       "    </tr>\n",
       "    <tr>\n",
       "      <th>nmme-tmp2m-56w__cancm4</th>\n",
       "      <td>0.927753</td>\n",
       "      <td>0.927753</td>\n",
       "    </tr>\n",
       "    <tr>\n",
       "      <th>nmme-tmp2m-56w__ccsm3</th>\n",
       "      <td>0.909451</td>\n",
       "      <td>0.909451</td>\n",
       "    </tr>\n",
       "  </tbody>\n",
       "</table>\n",
       "</div>"
      ],
      "text/plain": [
       "                           correlation  abs. corr.\n",
       "nmme-tmp2m-56w__cfsv2         0.954668    0.954668\n",
       "nmme-tmp2m-34w__cfsv2         0.954483    0.954483\n",
       "nmme-tmp2m-56w__nmmemean      0.950865    0.950865\n",
       "nmme-tmp2m-34w__nmmemean      0.950187    0.950187\n",
       "nmme-tmp2m-56w__gfdlflora     0.949846    0.949846\n",
       "nmme-tmp2m-34w__gfdlflorb     0.949346    0.949346\n",
       "nmme-tmp2m-56w__gfdlflorb     0.949016    0.949016\n",
       "nmme-tmp2m-34w__gfdlflora     0.947379    0.947379\n",
       "nmme-tmp2m-56w__ccsm4         0.944435    0.944435\n",
       "nmme-tmp2m-34w__ccsm4         0.943234    0.943234\n",
       "nmme-tmp2m-56w__nasa          0.941429    0.941429\n",
       "nmme-tmp2m-34w__nasa          0.940128    0.940128\n",
       "nmme-tmp2m-56w__gfdl          0.937179    0.937179\n",
       "nmme-tmp2m-34w__gfdl          0.936684    0.936684\n",
       "nmme-tmp2m-34w__cancm3        0.931658    0.931658\n",
       "nmme-tmp2m-56w__cancm3        0.930164    0.930164\n",
       "nmme-tmp2m-34w__cancm4        0.928570    0.928570\n",
       "nmme-tmp2m-56w__cancm4        0.927753    0.927753\n",
       "nmme-tmp2m-56w__ccsm3         0.909451    0.909451"
      ]
     },
     "metadata": {},
     "output_type": "display_data"
    },
    {
     "name": "stdout",
     "output_type": "stream",
     "text": [
      "CPU times: total: 34.5 s\n",
      "Wall time: 45.8 s\n"
     ]
    }
   ],
   "source": [
    "%%time\n",
    "top_corr_cols = column_corr(in_df=train2_df)"
   ]
  },
  {
   "cell_type": "code",
   "execution_count": 26,
   "id": "37bd1f1e-68bc-4514-a95a-e54072b0953c",
   "metadata": {},
   "outputs": [],
   "source": [
    "baseline_cols = [\"startdate\", \"lat\", \"lon\"]\n",
    "keep_test = baseline_cols + top_corr_cols\n",
    "keep_train = keep_test + [TARGET]"
   ]
  },
  {
   "cell_type": "code",
   "execution_count": 27,
   "id": "483de021-54f5-4fa3-b290-9d263ed2f7e6",
   "metadata": {},
   "outputs": [],
   "source": [
    "train3_df = train2_df[keep_train].copy()\n",
    "test3_df = test2_df[keep_test].copy()\n",
    "train2_df, test2_df = \"\", \"\""
   ]
  },
  {
   "cell_type": "code",
   "execution_count": 32,
   "id": "7c8412d8-bd3f-45a5-a436-96bbc27449a0",
   "metadata": {},
   "outputs": [
    {
     "name": "stdout",
     "output_type": "stream",
     "text": [
      "train3 dataframe -> rows: 375734, cols: 26\n",
      "test3 dataframe -> rows: 31354, cols: 25\n"
     ]
    }
   ],
   "source": [
    "print(f\"train3 dataframe -> rows: {train3_df.shape[0]}, cols: {train3_df.shape[1]}\")\n",
    "print(f\"test3 dataframe -> rows: {test3_df.shape[0]}, cols: {test3_df.shape[1]}\")"
   ]
  },
  {
   "cell_type": "markdown",
   "id": "d9d19c45-01c9-433f-b842-1e33866bf648",
   "metadata": {},
   "source": [
    "## b. Create Date Features"
   ]
  },
  {
   "cell_type": "code",
   "execution_count": 33,
   "id": "3867ac83-f1fe-4c08-b467-4f9409b6e96f",
   "metadata": {},
   "outputs": [],
   "source": [
    "def prep_features(in_df: pd.DataFrame) -> pd.DataFrame:\n",
    "    in_df[\"date\"] = pd.to_datetime(in_df[\"startdate\"])\n",
    "    in_df[\"week\"] = in_df[\"date\"].dt.isocalendar().week\n",
    "    in_df[\"month\"] = in_df[\"date\"].dt.month\n",
    "    print(in_df[[\"date\", \"week\", \"month\"]].head())\n",
    "    return in_df.drop(columns=[\"startdate\"])"
   ]
  },
  {
   "cell_type": "code",
   "execution_count": 34,
   "id": "24932ca0-fd26-4d0f-b118-fefad75c7a35",
   "metadata": {},
   "outputs": [
    {
     "name": "stdout",
     "output_type": "stream",
     "text": [
      "        date  week  month\n",
      "0 2014-09-01    36      9\n",
      "1 2014-09-02    36      9\n",
      "2 2014-09-03    36      9\n",
      "3 2014-09-04    36      9\n",
      "4 2014-09-05    36      9\n",
      "CPU times: total: 15.8 s\n",
      "Wall time: 19.5 s\n"
     ]
    }
   ],
   "source": [
    "%%time\n",
    "train4_df = prep_features(in_df=train3_df)"
   ]
  },
  {
   "cell_type": "code",
   "execution_count": 35,
   "id": "d6ef92df-cb91-40d6-b0ba-d107a3d530ed",
   "metadata": {},
   "outputs": [
    {
     "name": "stdout",
     "output_type": "stream",
     "text": [
      "        date  week  month\n",
      "0 2022-11-01    44     11\n",
      "1 2022-11-02    44     11\n",
      "2 2022-11-03    44     11\n",
      "3 2022-11-04    44     11\n",
      "4 2022-11-05    44     11\n",
      "CPU times: total: 15.6 ms\n",
      "Wall time: 24.4 ms\n"
     ]
    }
   ],
   "source": [
    "%%time\n",
    "test4_df = prep_features(in_df=test3_df)"
   ]
  },
  {
   "cell_type": "code",
   "execution_count": 36,
   "id": "00d720d1-fa1a-4f0b-b457-12f6907d1726",
   "metadata": {},
   "outputs": [],
   "source": [
    "train3_df, test3_df = \"\", \"\""
   ]
  },
  {
   "cell_type": "code",
   "execution_count": 59,
   "id": "fb503026-7d15-4b24-874d-b826357262ef",
   "metadata": {},
   "outputs": [
    {
     "data": {
      "text/plain": [
       "lat                                 float64\n",
       "lon                                 float64\n",
       "nmme-tmp2m-56w__cfsv2               float64\n",
       "nmme-tmp2m-34w__cfsv2               float64\n",
       "nmme-tmp2m-56w__nmmemean            float64\n",
       "nmme-tmp2m-34w__nmmemean            float64\n",
       "nmme-tmp2m-56w__gfdlflora           float64\n",
       "nmme-tmp2m-34w__gfdlflorb           float64\n",
       "nmme-tmp2m-56w__gfdlflorb           float64\n",
       "nmme-tmp2m-34w__gfdlflora           float64\n",
       "nmme-tmp2m-56w__ccsm4               float64\n",
       "nmme-tmp2m-34w__ccsm4               float64\n",
       "nmme-tmp2m-56w__nasa                float64\n",
       "nmme-tmp2m-34w__nasa                float64\n",
       "nmme-tmp2m-56w__gfdl                float64\n",
       "nmme-tmp2m-34w__gfdl                float64\n",
       "nmme-tmp2m-34w__cancm3              float64\n",
       "nmme-tmp2m-56w__cancm3              float64\n",
       "nmme-tmp2m-34w__cancm4              float64\n",
       "nmme-tmp2m-56w__cancm4              float64\n",
       "nmme-tmp2m-56w__ccsm3               float64\n",
       "contest-tmp2m-14d__tmp2m            float64\n",
       "date                         datetime64[ns]\n",
       "week                                 UInt32\n",
       "month                                 int64\n",
       "dtype: object"
      ]
     },
     "execution_count": 59,
     "metadata": {},
     "output_type": "execute_result"
    }
   ],
   "source": [
    "train4_df.dtypes"
   ]
  },
  {
   "cell_type": "markdown",
   "id": "b71a9a11-60b5-496d-a767-57850a730efb",
   "metadata": {},
   "source": [
    "## c. Scale the Features"
   ]
  },
  {
   "cell_type": "code",
   "execution_count": 55,
   "id": "9dcf2eb5-c676-4c93-955c-50f699c00f18",
   "metadata": {},
   "outputs": [],
   "source": [
    "scaler = preprocessing.MinMaxScaler()"
   ]
  },
  {
   "cell_type": "code",
   "execution_count": 56,
   "id": "ead5c96d-9886-4531-b546-61c9b4f0901c",
   "metadata": {},
   "outputs": [],
   "source": [
    "scaled_train_cols = [\"week\", \"month\", TARGET] + top_corr_cols\n",
    "scaled_test_cols = [\"week\", \"month\"] + top_corr_cols\n",
    "cols_to_skip = [\"lat\", \"lon\"]"
   ]
  },
  {
   "cell_type": "code",
   "execution_count": 69,
   "id": "d74c987f-4cc3-406d-b50d-42c3943cbc55",
   "metadata": {},
   "outputs": [],
   "source": [
    "def scale_features(in_df: pd.DataFrame, cols_to_scale: list) -> pd.DataFrame:\n",
    "    slct_df = in_df[cols_to_scale]\n",
    "    scaler.fit(slct_df)\n",
    "    scaled_ndarray = scaler.transform(slct_df)\n",
    "    out_df = pd.DataFrame(scaled_ndarray)\n",
    "    out_df.columns = scaled_cols\n",
    "    out_df[cols_to_skip] = in_df[cols_to_skip]\n",
    "    out_df.index = in_df[\"date\"]\n",
    "    return out_df"
   ]
  },
  {
   "cell_type": "code",
   "execution_count": 70,
   "id": "abd5b10f-24d5-47e1-b5cd-4ccec7caaee2",
   "metadata": {},
   "outputs": [
    {
     "data": {
      "text/html": [
       "<div>\n",
       "<style scoped>\n",
       "    .dataframe tbody tr th:only-of-type {\n",
       "        vertical-align: middle;\n",
       "    }\n",
       "\n",
       "    .dataframe tbody tr th {\n",
       "        vertical-align: top;\n",
       "    }\n",
       "\n",
       "    .dataframe thead th {\n",
       "        text-align: right;\n",
       "    }\n",
       "</style>\n",
       "<table border=\"1\" class=\"dataframe\">\n",
       "  <thead>\n",
       "    <tr style=\"text-align: right;\">\n",
       "      <th></th>\n",
       "      <th>week</th>\n",
       "      <th>month</th>\n",
       "      <th>contest-tmp2m-14d__tmp2m</th>\n",
       "      <th>nmme-tmp2m-56w__cfsv2</th>\n",
       "      <th>nmme-tmp2m-34w__cfsv2</th>\n",
       "      <th>nmme-tmp2m-56w__nmmemean</th>\n",
       "      <th>nmme-tmp2m-34w__nmmemean</th>\n",
       "      <th>nmme-tmp2m-56w__gfdlflora</th>\n",
       "      <th>nmme-tmp2m-34w__gfdlflorb</th>\n",
       "      <th>nmme-tmp2m-56w__gfdlflorb</th>\n",
       "      <th>...</th>\n",
       "      <th>nmme-tmp2m-34w__nasa</th>\n",
       "      <th>nmme-tmp2m-56w__gfdl</th>\n",
       "      <th>nmme-tmp2m-34w__gfdl</th>\n",
       "      <th>nmme-tmp2m-34w__cancm3</th>\n",
       "      <th>nmme-tmp2m-56w__cancm3</th>\n",
       "      <th>nmme-tmp2m-34w__cancm4</th>\n",
       "      <th>nmme-tmp2m-56w__cancm4</th>\n",
       "      <th>nmme-tmp2m-56w__ccsm3</th>\n",
       "      <th>lat</th>\n",
       "      <th>lon</th>\n",
       "    </tr>\n",
       "    <tr>\n",
       "      <th>date</th>\n",
       "      <th></th>\n",
       "      <th></th>\n",
       "      <th></th>\n",
       "      <th></th>\n",
       "      <th></th>\n",
       "      <th></th>\n",
       "      <th></th>\n",
       "      <th></th>\n",
       "      <th></th>\n",
       "      <th></th>\n",
       "      <th></th>\n",
       "      <th></th>\n",
       "      <th></th>\n",
       "      <th></th>\n",
       "      <th></th>\n",
       "      <th></th>\n",
       "      <th></th>\n",
       "      <th></th>\n",
       "      <th></th>\n",
       "      <th></th>\n",
       "      <th></th>\n",
       "    </tr>\n",
       "  </thead>\n",
       "  <tbody>\n",
       "    <tr>\n",
       "      <th>2014-09-01</th>\n",
       "      <td>0.673077</td>\n",
       "      <td>0.727273</td>\n",
       "      <td>0.852524</td>\n",
       "      <td>0.836139</td>\n",
       "      <td>0.827369</td>\n",
       "      <td>0.860309</td>\n",
       "      <td>0.858386</td>\n",
       "      <td>0.803415</td>\n",
       "      <td>0.817825</td>\n",
       "      <td>0.832576</td>\n",
       "      <td>...</td>\n",
       "      <td>0.841984</td>\n",
       "      <td>0.842889</td>\n",
       "      <td>0.837906</td>\n",
       "      <td>0.834871</td>\n",
       "      <td>0.842156</td>\n",
       "      <td>0.824174</td>\n",
       "      <td>0.823033</td>\n",
       "      <td>0.882232</td>\n",
       "      <td>0.0</td>\n",
       "      <td>0.833333</td>\n",
       "    </tr>\n",
       "    <tr>\n",
       "      <th>2014-09-02</th>\n",
       "      <td>0.673077</td>\n",
       "      <td>0.727273</td>\n",
       "      <td>0.846032</td>\n",
       "      <td>0.836139</td>\n",
       "      <td>0.827369</td>\n",
       "      <td>0.860309</td>\n",
       "      <td>0.858386</td>\n",
       "      <td>0.803415</td>\n",
       "      <td>0.817825</td>\n",
       "      <td>0.832576</td>\n",
       "      <td>...</td>\n",
       "      <td>0.841984</td>\n",
       "      <td>0.842889</td>\n",
       "      <td>0.837906</td>\n",
       "      <td>0.834871</td>\n",
       "      <td>0.842156</td>\n",
       "      <td>0.824174</td>\n",
       "      <td>0.823033</td>\n",
       "      <td>0.882232</td>\n",
       "      <td>0.0</td>\n",
       "      <td>0.833333</td>\n",
       "    </tr>\n",
       "    <tr>\n",
       "      <th>2014-09-03</th>\n",
       "      <td>0.673077</td>\n",
       "      <td>0.727273</td>\n",
       "      <td>0.841908</td>\n",
       "      <td>0.836139</td>\n",
       "      <td>0.827369</td>\n",
       "      <td>0.860309</td>\n",
       "      <td>0.858386</td>\n",
       "      <td>0.803415</td>\n",
       "      <td>0.817825</td>\n",
       "      <td>0.832576</td>\n",
       "      <td>...</td>\n",
       "      <td>0.841984</td>\n",
       "      <td>0.842889</td>\n",
       "      <td>0.837906</td>\n",
       "      <td>0.834871</td>\n",
       "      <td>0.842156</td>\n",
       "      <td>0.824174</td>\n",
       "      <td>0.823033</td>\n",
       "      <td>0.882232</td>\n",
       "      <td>0.0</td>\n",
       "      <td>0.833333</td>\n",
       "    </tr>\n",
       "    <tr>\n",
       "      <th>2014-09-04</th>\n",
       "      <td>0.673077</td>\n",
       "      <td>0.727273</td>\n",
       "      <td>0.844057</td>\n",
       "      <td>0.836139</td>\n",
       "      <td>0.827369</td>\n",
       "      <td>0.860309</td>\n",
       "      <td>0.858386</td>\n",
       "      <td>0.803415</td>\n",
       "      <td>0.817825</td>\n",
       "      <td>0.832576</td>\n",
       "      <td>...</td>\n",
       "      <td>0.841984</td>\n",
       "      <td>0.842889</td>\n",
       "      <td>0.837906</td>\n",
       "      <td>0.834871</td>\n",
       "      <td>0.842156</td>\n",
       "      <td>0.824174</td>\n",
       "      <td>0.823033</td>\n",
       "      <td>0.882232</td>\n",
       "      <td>0.0</td>\n",
       "      <td>0.833333</td>\n",
       "    </tr>\n",
       "    <tr>\n",
       "      <th>2014-09-05</th>\n",
       "      <td>0.673077</td>\n",
       "      <td>0.727273</td>\n",
       "      <td>0.846063</td>\n",
       "      <td>0.836139</td>\n",
       "      <td>0.827369</td>\n",
       "      <td>0.860309</td>\n",
       "      <td>0.858386</td>\n",
       "      <td>0.803415</td>\n",
       "      <td>0.817825</td>\n",
       "      <td>0.832576</td>\n",
       "      <td>...</td>\n",
       "      <td>0.841984</td>\n",
       "      <td>0.842889</td>\n",
       "      <td>0.837906</td>\n",
       "      <td>0.834871</td>\n",
       "      <td>0.842156</td>\n",
       "      <td>0.824174</td>\n",
       "      <td>0.823033</td>\n",
       "      <td>0.882232</td>\n",
       "      <td>0.0</td>\n",
       "      <td>0.833333</td>\n",
       "    </tr>\n",
       "  </tbody>\n",
       "</table>\n",
       "<p>5 rows × 24 columns</p>\n",
       "</div>"
      ],
      "text/plain": [
       "                week     month  contest-tmp2m-14d__tmp2m  \\\n",
       "date                                                       \n",
       "2014-09-01  0.673077  0.727273                  0.852524   \n",
       "2014-09-02  0.673077  0.727273                  0.846032   \n",
       "2014-09-03  0.673077  0.727273                  0.841908   \n",
       "2014-09-04  0.673077  0.727273                  0.844057   \n",
       "2014-09-05  0.673077  0.727273                  0.846063   \n",
       "\n",
       "            nmme-tmp2m-56w__cfsv2  nmme-tmp2m-34w__cfsv2  \\\n",
       "date                                                       \n",
       "2014-09-01               0.836139               0.827369   \n",
       "2014-09-02               0.836139               0.827369   \n",
       "2014-09-03               0.836139               0.827369   \n",
       "2014-09-04               0.836139               0.827369   \n",
       "2014-09-05               0.836139               0.827369   \n",
       "\n",
       "            nmme-tmp2m-56w__nmmemean  nmme-tmp2m-34w__nmmemean  \\\n",
       "date                                                             \n",
       "2014-09-01                  0.860309                  0.858386   \n",
       "2014-09-02                  0.860309                  0.858386   \n",
       "2014-09-03                  0.860309                  0.858386   \n",
       "2014-09-04                  0.860309                  0.858386   \n",
       "2014-09-05                  0.860309                  0.858386   \n",
       "\n",
       "            nmme-tmp2m-56w__gfdlflora  nmme-tmp2m-34w__gfdlflorb  \\\n",
       "date                                                               \n",
       "2014-09-01                   0.803415                   0.817825   \n",
       "2014-09-02                   0.803415                   0.817825   \n",
       "2014-09-03                   0.803415                   0.817825   \n",
       "2014-09-04                   0.803415                   0.817825   \n",
       "2014-09-05                   0.803415                   0.817825   \n",
       "\n",
       "            nmme-tmp2m-56w__gfdlflorb  ...  nmme-tmp2m-34w__nasa  \\\n",
       "date                                   ...                         \n",
       "2014-09-01                   0.832576  ...              0.841984   \n",
       "2014-09-02                   0.832576  ...              0.841984   \n",
       "2014-09-03                   0.832576  ...              0.841984   \n",
       "2014-09-04                   0.832576  ...              0.841984   \n",
       "2014-09-05                   0.832576  ...              0.841984   \n",
       "\n",
       "            nmme-tmp2m-56w__gfdl  nmme-tmp2m-34w__gfdl  \\\n",
       "date                                                     \n",
       "2014-09-01              0.842889              0.837906   \n",
       "2014-09-02              0.842889              0.837906   \n",
       "2014-09-03              0.842889              0.837906   \n",
       "2014-09-04              0.842889              0.837906   \n",
       "2014-09-05              0.842889              0.837906   \n",
       "\n",
       "            nmme-tmp2m-34w__cancm3  nmme-tmp2m-56w__cancm3  \\\n",
       "date                                                         \n",
       "2014-09-01                0.834871                0.842156   \n",
       "2014-09-02                0.834871                0.842156   \n",
       "2014-09-03                0.834871                0.842156   \n",
       "2014-09-04                0.834871                0.842156   \n",
       "2014-09-05                0.834871                0.842156   \n",
       "\n",
       "            nmme-tmp2m-34w__cancm4  nmme-tmp2m-56w__cancm4  \\\n",
       "date                                                         \n",
       "2014-09-01                0.824174                0.823033   \n",
       "2014-09-02                0.824174                0.823033   \n",
       "2014-09-03                0.824174                0.823033   \n",
       "2014-09-04                0.824174                0.823033   \n",
       "2014-09-05                0.824174                0.823033   \n",
       "\n",
       "            nmme-tmp2m-56w__ccsm3  lat       lon  \n",
       "date                                              \n",
       "2014-09-01               0.882232  0.0  0.833333  \n",
       "2014-09-02               0.882232  0.0  0.833333  \n",
       "2014-09-03               0.882232  0.0  0.833333  \n",
       "2014-09-04               0.882232  0.0  0.833333  \n",
       "2014-09-05               0.882232  0.0  0.833333  \n",
       "\n",
       "[5 rows x 24 columns]"
      ]
     },
     "execution_count": 70,
     "metadata": {},
     "output_type": "execute_result"
    }
   ],
   "source": [
    "train_scaled = scale_features(in_df=train4_df, )\n",
    "train_scaled.head()"
   ]
  },
  {
   "cell_type": "code",
   "execution_count": null,
   "id": "100bec5c-d95b-4e6d-8f85-8e363ac3e98a",
   "metadata": {},
   "outputs": [],
   "source": []
  }
 ],
 "metadata": {
  "kernelspec": {
   "display_name": "Python 3 (ipykernel)",
   "language": "python",
   "name": "python3"
  },
  "language_info": {
   "codemirror_mode": {
    "name": "ipython",
    "version": 3
   },
   "file_extension": ".py",
   "mimetype": "text/x-python",
   "name": "python",
   "nbconvert_exporter": "python",
   "pygments_lexer": "ipython3",
   "version": "3.10.0"
  }
 },
 "nbformat": 4,
 "nbformat_minor": 5
}
